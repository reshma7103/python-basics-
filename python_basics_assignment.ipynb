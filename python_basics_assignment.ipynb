{
  "nbformat": 4,
  "nbformat_minor": 0,
  "metadata": {
    "colab": {
      "provenance": []
    },
    "kernelspec": {
      "name": "python3",
      "display_name": "Python 3"
    },
    "language_info": {
      "name": "python"
    }
  },
  "cells": [
    {
      "cell_type": "markdown",
      "source": [
        "# Theoretical question"
      ],
      "metadata": {
        "id": "aTK0dK2dqTbo"
      }
    },
    {
      "cell_type": "markdown",
      "source": [
        "# Python Basics Assignment\n",
        "\n",
        "Q1.What is Python, and why is it popular?\n",
        "\n",
        " - Python is a high-level, interpreted programming language known for its\n",
        "  simplicity and readability. It was created by Guido van Rossum and first released in 1991.\n",
        "\n",
        "It is popular because of the reasons like:\n",
        "   - easy to learn\n",
        "   - Versatile nature\n",
        "   - widely used in Industry\n",
        "   - Compatibility\n",
        "   - lots of libraries\n",
        "   *************************************************************************\n",
        "\n",
        "Q2. What is an interpreter in Python?\n",
        "\n",
        "  - An interpreter in Python is a program that reads and executes Python code line by line. It translates the high-level Python code into machine code at runtime, allowing the program to run without prior compilation.\n",
        "\n",
        "******************************************************************************\n",
        "\n",
        "Q3. What are pre-defined keywords in Python?\n",
        "\n",
        "  - Pre-defined keywords in Python are reserved words that have special meanings and purposes in the language. They are used to define the syntax and structure of Python program.\n",
        "\n",
        "Examples:if , else ,while, for ,def , class\n",
        "\n",
        "********************************************************************************\n",
        "\n",
        "Q4. Can keywords be used as variable names?\n",
        "\n",
        "  -No, keywords cannot be used as variable names in Python.sing them as variable names will result in a syntax error.\n",
        "Keywords are reserved words that have special meaning in the language\n",
        "Examples: if, while, def, class.\n",
        "  \n",
        "********************************************************************************\n",
        "\n",
        "Q5. What is mutability in Python?\n",
        "\n",
        "- Mutability in Python refers to whether or not an object can be changed after it is created.\n",
        "Mutable objects can be changed in place.\n",
        "Examples: list, dict, set\n",
        "\n",
        "********************************************************************************\n",
        "\n",
        "Q6. Why are lists mutable, but tuples are immutable?\n",
        "- Lists are mutable because they are designed to allow changes—such as adding, removing, or modifying elements—after creation. Python provides methods like .append(), .remove(), and direct indexing for this purpose.\n",
        "\n",
        "Tuples are immutable because they are intended to be fixed collections of items. Once a tuple is created, its contents cannot be changed, which makes them safer and more efficient in situations where data shouldn't be modified.\n",
        "\n",
        "*******************************************************************************\n",
        "\n",
        "Q7. What is the difference between “==” and “is” operators in Python?\n",
        "- The “==” operator is used to compare the value of the variable.\n",
        " \t\tExample:\n",
        "\t\t\tcity = \"Banglore\"\n",
        "      if city==\"Banglore\":\n",
        "  \t\t\t\tprint(\" metropolitan city\")\n",
        "\t\t\telse:\n",
        "\t\t\t\t  print(\"not metropolitan city\")\n",
        "\n",
        "- The “is” operator is use to compare the memory locations of two objects. It returns True if the two objects have the same location , and False otherwise.\n",
        "\t\tExample:\n",
        "      x = [7,8,9]\n",
        "      y = [4,5,6]\n",
        "      z=x\n",
        "      print(x is y)\n",
        "      print(x is z)\n",
        "\n",
        "********************************************************************************\n",
        "\n",
        "Q8. What are logical operators in Python?***\n",
        "\n",
        "- logical operators are used to combine multiple conditions and evaluate them as a single boolean expression.\n",
        "Examples:and,or,not,xor\n",
        "\n",
        "********************************************************************************\n",
        "\n",
        "Q9.What is type casting in Python?\n",
        "\n",
        "- Type casting in Python is the process of converting one data type into another. It allows you to change the type of a variable, such as from a string to an integer, or from a float to a string.\n",
        "Python provides built-in functions for type casting, such as:\n",
        "\n",
        "int() – to convert to integer\n",
        "\n",
        "float() – to convert to float\n",
        "\n",
        "str() – to convert to string\n",
        "\n",
        "bool() – to convert to boolean\n",
        "\n",
        "********************************************************************************\n",
        "\n",
        "Q10. What is the difference between implicit and explicit type casting?\n",
        "\n",
        "- Implicit type casting is automatic type conversion done by Python, while explicit type casting is manual conversion performed by the programmer using functions like int() or str().\n",
        "\n",
        "*******************************************************************************\n",
        "\n",
        "Q11. What is the purpose of conditional statements in Python?\n",
        "-The purpose of conditional statements in Python is to control the flow of a program by executing different blocks of code based on whether a condition is true or false.\n",
        "\n",
        "Example:-\n",
        "    voting age = 18\n",
        "      if voting age >= 18:\n",
        "  \t\t\tprint(\"eligible for voting\")\n",
        "      else:\n",
        "   \t\t\t print(\"not eligible for voting\")\n",
        "\n",
        "********************************************************************************\n",
        "\n",
        "\n",
        "Q12. How does the elif statement work?\n",
        "\n",
        "-The elif statement in Python allows you to check multiple conditions one after another; if the first if condition is false, Python checks the elif condition(s) in order and executes the block of the first true condition it finds.\n",
        "\n",
        "Example:-\n",
        "    age = 15\n",
        "    if age < 18:\n",
        "        print(\"You are minority\")\n",
        "    elif 18<age<=65:\n",
        "        print(\"Yo are adult\")\n",
        "    else:\n",
        "         print(\"You are senior citizen\")\n",
        "-----------------------------------------------------------------\n",
        "\n",
        "Q13.What is the difference between for and while loops?\n",
        "\n",
        "- A “for” loop is used for iterating over a sequence. While , with the while loop we can execute a set of statements as long as a condition is true.\n",
        "-----------------------------------------------------------------\n",
        "\n",
        "Q14.  Describe a scenario where a while loop is more suitable than a for loop?\n",
        "- Use of \"for\" loop when you know the loop will be executed for short or 'n' no times. Use of \"while\" loop for reading a file which are mentioned in a variable. Use a while loop when asking for user input.\n",
        "\n",
        "\n",
        "\n",
        "\n",
        "\n",
        "\n"
      ],
      "metadata": {
        "id": "Xj3ZcTdx4G_J"
      }
    },
    {
      "cell_type": "markdown",
      "source": [
        "# Practical Questions\n",
        "\n",
        "\n",
        "\n",
        "\n",
        "\n",
        "\n"
      ],
      "metadata": {
        "id": "ae8hc5kjqClV"
      }
    },
    {
      "cell_type": "code",
      "source": [
        "#Practical question\n",
        "'''\n",
        "Q1.  Write a Python program to print \"Hello, World!.\n",
        "'''\n",
        "\n",
        "print(\"Hello, World!\")\n",
        "\n"
      ],
      "metadata": {
        "colab": {
          "base_uri": "https://localhost:8080/"
        },
        "id": "xYJ7B1_djKOn",
        "outputId": "29197355-2cbf-46a5-8e53-a85490707c9c"
      },
      "execution_count": 1,
      "outputs": [
        {
          "output_type": "stream",
          "name": "stdout",
          "text": [
            "Hello, World!\n"
          ]
        }
      ]
    },
    {
      "cell_type": "code",
      "source": [
        "\n",
        "'''\n",
        "Q2. Write a Python program that displays your name and age.\n",
        "'''\n",
        "\n",
        "name = \"Timmer\"\n",
        "age = 64\n",
        "print(\"My name is:\", name)\n",
        "print(\"My age is:\", age)\n"
      ],
      "metadata": {
        "colab": {
          "base_uri": "https://localhost:8080/"
        },
        "id": "TKnW4GBQjLie",
        "outputId": "ad9c732e-9fbf-445f-c5ae-4fa959ee7c40"
      },
      "execution_count": 2,
      "outputs": [
        {
          "output_type": "stream",
          "name": "stdout",
          "text": [
            "My name is: Timmer\n",
            "My age is: 64\n"
          ]
        }
      ]
    },
    {
      "cell_type": "code",
      "source": [
        "\n",
        "'''\n",
        "Q3. Write code to print all the pre-defined keywords in Python using the keyword library.\n",
        "\n",
        "'''\n",
        "'''\n",
        "There are two methods to find the list of all the predefined keywords.\n",
        "'''\n",
        "#this a method to list without libarary.\n",
        "help('keywords')\n",
        "\n",
        "#this is a method to list using python library.\n",
        "import keyword\n",
        "print(keyword.kwlist, \"\")"
      ],
      "metadata": {
        "colab": {
          "base_uri": "https://localhost:8080/"
        },
        "id": "AmgpBu2zj23R",
        "outputId": "2a4dc2cd-1628-4690-d780-e943afc96c53"
      },
      "execution_count": 3,
      "outputs": [
        {
          "output_type": "stream",
          "name": "stdout",
          "text": [
            "\n",
            "Here is a list of the Python keywords.  Enter any keyword to get more help.\n",
            "\n",
            "False               class               from                or\n",
            "None                continue            global              pass\n",
            "True                def                 if                  raise\n",
            "and                 del                 import              return\n",
            "as                  elif                in                  try\n",
            "assert              else                is                  while\n",
            "async               except              lambda              with\n",
            "await               finally             nonlocal            yield\n",
            "break               for                 not                 \n",
            "\n",
            "['False', 'None', 'True', 'and', 'as', 'assert', 'async', 'await', 'break', 'class', 'continue', 'def', 'del', 'elif', 'else', 'except', 'finally', 'for', 'from', 'global', 'if', 'import', 'in', 'is', 'lambda', 'nonlocal', 'not', 'or', 'pass', 'raise', 'return', 'try', 'while', 'with', 'yield'] \n"
          ]
        }
      ]
    },
    {
      "cell_type": "code",
      "source": [
        "\n",
        "'''\n",
        "Q4. Write a program that checks if a given word is a Python keyword.\n",
        "'''\n",
        "import keyword\n",
        "word = input(\"Enter your word \")\n",
        "if keyword.iskeyword(word):\n",
        "  print(word, \"is a python keyword\")\n",
        "else:\n",
        "  print(word, \"is not a python keyword\")\n",
        "\n"
      ],
      "metadata": {
        "colab": {
          "base_uri": "https://localhost:8080/"
        },
        "id": "h4DdZVInkxY6",
        "outputId": "9208dfa2-d83c-4794-d3d2-8d685e488ddc"
      },
      "execution_count": 5,
      "outputs": [
        {
          "output_type": "stream",
          "name": "stdout",
          "text": [
            "Enter your word def\n",
            "def is a python keyword\n"
          ]
        }
      ]
    },
    {
      "cell_type": "code",
      "source": [
        "\n",
        "'''\n",
        "Q5.  Create a list and tuple in Python, and demonstrate how attempting to change an element works differently\n",
        "for each.\n",
        "'''\n",
        "list = [10, 20, 30]\n",
        "print(\"This is a original list: \" ,list)\n",
        "list[2] = 25\n",
        "print(\"This is a changed list: \" ,list)\n",
        "\n",
        "print(\" \") #using for blank space\n",
        "\n",
        "#this a attempt to change the element of tuple\n",
        "my_tuple = (10, 20, 30)\n",
        "print(\"This is a original tuple: \" ,my_tuple)\n",
        "new_tuple = my_tuple[:1] + (99,) + my_tuple[2:]\n",
        "print(\"This is a changed tuple: \" ,new_tuple)\n"
      ],
      "metadata": {
        "colab": {
          "base_uri": "https://localhost:8080/"
        },
        "id": "oz2eCWakp2_A",
        "outputId": "18d14f43-c687-4d54-9b86-614873071e65"
      },
      "execution_count": 30,
      "outputs": [
        {
          "output_type": "stream",
          "name": "stdout",
          "text": [
            "This is a original list:  [10, 20, 30]\n",
            "This is a changed list:  [10, 20, 25]\n",
            " \n",
            "This is a original tuple:  (10, 20, 30)\n",
            "This is a changed tuple:  (10, 99, 30)\n"
          ]
        }
      ]
    },
    {
      "cell_type": "code",
      "source": [
        "\n",
        "'''\n",
        "Q6. Write a function to demonstrate the behavior of mutable and immutable arguments.\n",
        "'''\n",
        "def demonstrate_mutable_immutable():\n",
        "    # Mutable Argument: List\n",
        "    print(\"=== Mutable Argument Example ===\")\n",
        "    def modify_list(lst):\n",
        "        lst[0] = \"Changed\"\n",
        "        print(\"Inside function (modified list):\", lst)\n",
        "\n",
        "    original_list = [10, 20, 30]\n",
        "    print(\"Original list before function call:\", original_list)\n",
        "    modify_list(original_list)\n",
        "    print(\"Original list after function call:\", original_list)\n",
        "\n",
        "    print(\"\\n=== Immutable Argument Example ===\")\n",
        "    # Immutable Argument: Integer\n",
        "    def modify_int(x):\n",
        "        x = x + 10\n",
        "        print(\"Inside function (modified int):\", x)\n",
        "\n",
        "    original_int = 100\n",
        "    print(\"Original int before function call:\", original_int)\n",
        "    modify_int(original_int)\n",
        "    print(\"Original int after function call:\", original_int)\n",
        "\n",
        "# Call the function to run the demo\n",
        "demonstrate_mutable_immutable()\n",
        "\n"
      ],
      "metadata": {
        "id": "vn4FjNoU-q7U",
        "colab": {
          "base_uri": "https://localhost:8080/"
        },
        "outputId": "138bf566-369a-4680-d159-8547c551b3f2"
      },
      "execution_count": 9,
      "outputs": [
        {
          "output_type": "stream",
          "name": "stdout",
          "text": [
            "=== Mutable Argument Example ===\n",
            "Original list before function call: [10, 20, 30]\n",
            "Inside function (modified list): ['Changed', 20, 30]\n",
            "Original list after function call: ['Changed', 20, 30]\n",
            "\n",
            "=== Immutable Argument Example ===\n",
            "Original int before function call: 100\n",
            "Inside function (modified int): 110\n",
            "Original int after function call: 100\n"
          ]
        }
      ]
    },
    {
      "cell_type": "code",
      "source": [
        "'''\n",
        "Q7.Write a program that performs basic arthmetic operations on two user-input number\n",
        "\n",
        "'''\n",
        "a = 10\n",
        "b = 50\n",
        "print(\"addition\",a+b)\n",
        "print(\"Addition:\", a + b)\n",
        "print(\"Subtraction:\", a - b)\n",
        "print(\"Multiplication:\", a * b)\n",
        "print(\"Division:\", a / b)\n",
        "print(\"Floor Division:\", a // b)\n",
        "print(\"Modulus:\", a % b)\n",
        "print(\"Exponentiation:\", a ** b)\n",
        "\n",
        "\n",
        "\n",
        "\n",
        "\n",
        "\n",
        ""
      ],
      "metadata": {
        "id": "lQUhFSMWGjg8",
        "colab": {
          "base_uri": "https://localhost:8080/"
        },
        "outputId": "5b69d8e6-2cd8-4047-95de-189395067792"
      },
      "execution_count": 7,
      "outputs": [
        {
          "output_type": "stream",
          "name": "stdout",
          "text": [
            "addition 60\n",
            "Addition: 60\n",
            "Subtraction: -40\n",
            "Multiplication: 500\n",
            "Division: 0.2\n",
            "Floor Division: 0\n",
            "Modulus: 10\n",
            "Exponentiation: 100000000000000000000000000000000000000000000000000\n"
          ]
        }
      ]
    },
    {
      "cell_type": "code",
      "source": [
        "\n",
        "'''\n",
        "Q8. Write a program to demonstrate the use of logical operators.\n",
        "'''\n",
        "\n",
        "# or operator\n",
        "a = 10\n",
        "b = 20\n",
        "c = 0\n",
        "if a < 0 or b > 0:\n",
        "    print(\"b is greater than a \")\n",
        "else:\n",
        "    print(\"No number is greater than 0\")\n",
        "if b > 0 or c > 0:\n",
        "    print(\"Either of the number is greater than 0\")\n",
        "else:\n",
        "    print(\"No number is greater than 0\")\n",
        "\n",
        "print(\" \")\n",
        "# and operator\n",
        "a = 10\n",
        "b = 10\n",
        "c = -10\n",
        "if a > 0 and b > 0:\n",
        "    print(\"The numbers are greater than 0\")\n",
        "if a > 0 and b > 0 and c > 0:\n",
        "    print(\"The numbers are greater than 0\")\n",
        "else:\n",
        "    print(\"Atleast one number is not greater than 0\")\n"
      ],
      "metadata": {
        "colab": {
          "base_uri": "https://localhost:8080/"
        },
        "id": "JLka2hmWdAAQ",
        "outputId": "2f75e0f1-39da-4305-9413-751485e00544"
      },
      "execution_count": null,
      "outputs": [
        {
          "output_type": "stream",
          "name": "stdout",
          "text": [
            "b is greater than a \n",
            "Either of the number is greater than 0\n",
            " \n",
            "The numbers are greater than 0\n",
            "Atleast one number is not greater than 0\n"
          ]
        }
      ]
    },
    {
      "cell_type": "code",
      "source": [
        "\n",
        "'''\n",
        "Q9. Write a Python program to convert user input from string to integer, float, and boolean types.\n",
        "'''\n",
        "#converting sting to integer type\n",
        "a = input(\"Enter a string:\")\n",
        "int_val= int(a)\n",
        "print(int_val)\n",
        "print(type(int_val))\n",
        "\n",
        "\n",
        "print(\" \")\n",
        "#converting string to boolean type\n",
        "c = input(\"Enter a string:\")\n",
        "bool_val= bool(c)\n",
        "print(bool_val)\n",
        "print(type(bool_val))\n",
        "\n",
        "\n",
        "print(\" \")\n",
        "#converting string to float type\n",
        "b = input('Enter a string:')\n",
        "d = [float(b)]1\n",
        "print(type(d))\n",
        "print('Float Value =', d)\n"
      ],
      "metadata": {
        "colab": {
          "base_uri": "https://localhost:8080/"
        },
        "id": "b3Mq-d4ZG1yk",
        "outputId": "bef353da-c7f5-4e0f-8b56-29909d302cf1"
      },
      "execution_count": null,
      "outputs": [
        {
          "output_type": "stream",
          "name": "stdout",
          "text": [
            "Enter a string:12\n",
            "12\n",
            "<class 'int'>\n",
            " \n",
            "Enter a string:15\n",
            "True\n",
            "<class 'bool'>\n",
            " \n",
            "Enter a string:1\n",
            "<class 'list'>\n",
            "Float Value = [1.0]\n"
          ]
        }
      ]
    },
    {
      "cell_type": "code",
      "source": [
        "\n",
        "'''\n",
        "Q10. Write code to demonstrate type casting with list elements.\n",
        "'''\n",
        "#type casting into float with list elements.\n",
        "a = (10 , 20 , 30 , 40 , 50)\n",
        "d = [float(x) for x in a]\n",
        "print(type(d))\n",
        "print('Float Value =', d)\n",
        "\n",
        "print(\" \")\n",
        "#adding float string and interger with the help of type casting\n",
        "a = int(10)\n",
        "b = int(20.2)\n",
        "c = int(\"30\")\n",
        "print (a + b + c)"
      ],
      "metadata": {
        "colab": {
          "base_uri": "https://localhost:8080/"
        },
        "id": "-iaFyUkYPCeq",
        "outputId": "aeebbcc7-e641-42d2-f841-822b650d99fb"
      },
      "execution_count": 14,
      "outputs": [
        {
          "output_type": "stream",
          "name": "stdout",
          "text": [
            "<class 'list'>\n",
            "Float Value = [10.0, 20.0, 30.0, 40.0, 50.0]\n",
            " \n",
            "60\n"
          ]
        }
      ]
    },
    {
      "cell_type": "code",
      "source": [
        "\n",
        "'''\n",
        "Q11.  Write a program that checks if a number is positive, negative, or zero.\n",
        "'''\n",
        "a = float(input(\"Enter a number: \"))\n",
        "if a > 0:\n",
        "  print(\"The number is positive\")\n",
        "elif a < 0:\n",
        "  print(\"The number is negative\")\n",
        "else:\n",
        "  print(\"The number is zero\")"
      ],
      "metadata": {
        "id": "jmPi-9ENPC4w"
      },
      "execution_count": null,
      "outputs": []
    },
    {
      "cell_type": "code",
      "source": [
        "\n",
        "'''\n",
        "Q12. Write a for loop to print numbers from 1 to 100.\n",
        "'''\n",
        "for i in range (0,5):\n",
        "  print(i)\n"
      ],
      "metadata": {
        "id": "cJk1OxYSKJco",
        "colab": {
          "base_uri": "https://localhost:8080/"
        },
        "outputId": "2fb5fe4a-e8c9-424f-a590-406b0f072ee4"
      },
      "execution_count": 12,
      "outputs": [
        {
          "output_type": "stream",
          "name": "stdout",
          "text": [
            "0\n",
            "1\n",
            "2\n",
            "3\n",
            "4\n"
          ]
        }
      ]
    },
    {
      "cell_type": "code",
      "source": [
        "\n",
        "'''\n",
        "Q13. Write a Python program to find the sum of all even numbers between 1 and 500.\n",
        "'''\n",
        "a=0\n",
        "for number in range(1,501):\n",
        "  if number % 2 == 0:\n",
        "    a += number\n",
        "print(\"The sum of all even numbers between 1 and 500 is:\",a)"
      ],
      "metadata": {
        "colab": {
          "base_uri": "https://localhost:8080/"
        },
        "id": "DqaZCCpyiIao",
        "outputId": "ca33893e-bd80-48db-8776-10491dc4c3a4"
      },
      "execution_count": 11,
      "outputs": [
        {
          "output_type": "stream",
          "name": "stdout",
          "text": [
            "The sum of all even numbers between 1 and 500 is: 62750\n"
          ]
        }
      ]
    },
    {
      "cell_type": "code",
      "source": [
        "\n",
        "'''\n",
        "Q14. Write a program to reverse a string using a while loop.\n",
        "'''\n",
        "str = \"cricket\"\n",
        "print (\"The original string  is : \",str)\n",
        "rev_String = \"\"\n",
        "count = len(str)\n",
        "while count > 0:\n",
        "    rev_String += str[ count - 1 ]\n",
        "    count = count - 1\n",
        "print (\"The reversed string using a while loop is : \",rev_String)"
      ],
      "metadata": {
        "colab": {
          "base_uri": "https://localhost:8080/"
        },
        "id": "BQvERMJnMEKc",
        "outputId": "8c7bb96d-7678-490d-e827-9533f53180e0"
      },
      "execution_count": 10,
      "outputs": [
        {
          "output_type": "stream",
          "name": "stdout",
          "text": [
            "The original string  is :  cricket\n",
            "The reversed string using a while loop is :  tekcirc\n"
          ]
        }
      ]
    },
    {
      "cell_type": "code",
      "source": [
        "\n",
        "'''\n",
        "Q15. Write a Python program to calculate the factorial of a number provided by the user using a while loop.\n",
        "'''\n",
        "a = int(input(\"Enter any number: \"))\n",
        "b = 1\n",
        "while a >= 1:\n",
        "    b *= a\n",
        "    a -= 1\n",
        "\n",
        "# print output\n",
        "print(\"Factorial is\", b)"
      ],
      "metadata": {
        "colab": {
          "base_uri": "https://localhost:8080/"
        },
        "id": "X8v1-ySoM90X",
        "outputId": "295afbc9-b42e-4d89-863a-92776cce9987"
      },
      "execution_count": 8,
      "outputs": [
        {
          "output_type": "stream",
          "name": "stdout",
          "text": [
            "Enter any number: 5\n",
            "Factorial is 120\n"
          ]
        }
      ]
    }
  ]
}